{
 "cells": [
  {
   "cell_type": "code",
   "execution_count": null,
   "id": "2f16efa3",
   "metadata": {},
   "outputs": [],
   "source": [
    "# Query builder: https://ec.europa.eu/eurostat/web/query-builder/tool\n",
    "# The structure to build the REST request is a URL: {host_url}/{service}/{version}/{response_type}/{datasetCode}?{format}&{lang}&{filters}"
   ]
  },
  {
   "cell_type": "code",
   "execution_count": null,
   "id": "d2447a7d",
   "metadata": {},
   "outputs": [],
   "source": [
    "# Sold production, exports and imports back to 1995\n",
    "# Used to extend prodcom data from ONS further back historically than 2008. 4\n",
    "# Need to pass the prodcom codes for the UNUs to the api\n",
    ">>> import requests\n",
    ">>> api_url = \"https://ec.europa.eu/eurostat/api/comext/dissemination/statistics/1.0/data/ds-056120?format=JSON&decl=006&prccode=11011050&prccode=11011063&prccode=11011065&indicators=PRODQNT&lang=en\"\n",
    ">>> response = requests.get(api_url)\n",
    ">>> response.json()"
   ]
  },
  {
   "cell_type": "code",
   "execution_count": null,
   "id": "ea24dbf9",
   "metadata": {},
   "outputs": [],
   "source": []
  }
 ],
 "metadata": {
  "kernelspec": {
   "display_name": "Python 3 (ipykernel)",
   "language": "python",
   "name": "python3"
  },
  "language_info": {
   "codemirror_mode": {
    "name": "ipython",
    "version": 3
   },
   "file_extension": ".py",
   "mimetype": "text/x-python",
   "name": "python",
   "nbconvert_exporter": "python",
   "pygments_lexer": "ipython3",
   "version": "3.10.9"
  }
 },
 "nbformat": 4,
 "nbformat_minor": 5
}

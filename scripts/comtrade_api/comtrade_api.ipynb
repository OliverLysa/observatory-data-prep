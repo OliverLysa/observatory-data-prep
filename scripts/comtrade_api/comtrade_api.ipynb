{
 "cells": [
  {
   "cell_type": "code",
   "execution_count": null,
   "id": "240890e6",
   "metadata": {},
   "outputs": [],
   "source": [
    "# Define functions \n",
    "\n",
    "# Define save CSV\n",
    "def save_csv(data, filename):\n",
    "    \"\"\"\n",
    "    :param csv_inputs:\n",
    "    :return:\n",
    "    \"\"\"\n",
    "    try:\n",
    "        with open(filename, \"w\", encoding='utf-8', newline='') as f:\n",
    "            writer = csv.writer(f)\n",
    "            writer.writerows(data)\n",
    "    except Exception as e:\n",
    "        print(str(e))\n",
    "        print(\"File {} not found or format is wrong\".format(filename))"
   ]
  },
  {
   "cell_type": "code",
   "execution_count": null,
   "id": "38f25cee",
   "metadata": {},
   "outputs": [],
   "source": [
    "# Install a pip comtradeapicall package in the current Jupyter kernel\n",
    "import sys\n",
    "!{sys.executable} -m pip install --upgrade comtradeapicall"
   ]
  },
  {
   "cell_type": "code",
   "execution_count": null,
   "id": "a90490d6",
   "metadata": {},
   "outputs": [],
   "source": [
    "# Install a pip pandas package in the current Jupyter kernel\n",
    "import sys\n",
    "!{sys.executable} -m pip install pandas"
   ]
  },
  {
   "cell_type": "code",
   "execution_count": null,
   "id": "bad8425e",
   "metadata": {},
   "outputs": [],
   "source": [
    "# Import libraries\n",
    "import pandas\n",
    "import requests\n",
    "import comtradeapicall"
   ]
  },
  {
   "cell_type": "code",
   "execution_count": null,
   "id": "045be406",
   "metadata": {},
   "outputs": [],
   "source": [
    "# Set subscription key and directory\n",
    "subscription_key = 'c5fed294c36c4a38b61f6da8eaf24fc2' # comtrade api subscription key (from comtradedeveloper.un.org)\n",
    "directory = '<OUTPUT DIR>'  # output directory for downloaded files "
   ]
  },
  {
   "cell_type": "code",
   "execution_count": null,
   "id": "ef3e5d30",
   "metadata": {},
   "outputs": [],
   "source": [
    "# Import string of trade codes"
   ]
  },
  {
   "cell_type": "code",
   "execution_count": null,
   "id": "307660fe",
   "metadata": {},
   "outputs": [],
   "source": [
    "# Call get data API to a data frame, max to 250K records, subscription key required"
   ]
  },
  {
   "cell_type": "code",
   "execution_count": null,
   "id": "5740d8d3",
   "metadata": {},
   "outputs": [],
   "source": [
    "mydf = comtradeapicall.getFinalData(subscription_key,\n",
    "                                    # Type of trade: C for commodities and S for service\n",
    "                                    typeCode='C',\n",
    "                                    # Trade frequency: A for annual and M for monthly\n",
    "                                    freqCode='A',\n",
    "                                    # Trade (IMTS) classifications: HS, SITC, BEC or EBOPS.\n",
    "                                    clCode='HS', \n",
    "                                    # Year or month. Year should be 4 digit year. Month should be six digit integer with the values of the form YYYYMM\n",
    "                                    period='1995',\n",
    "                                    # Reporter code (Possible values are M49 code of the countries separated by comma (,))\n",
    "                                    reporterCode='826',\n",
    "                                    # Commodity code. Multi value input should be in the form of csv (Codes separated by comma (,))\n",
    "                                    # Link to csv\n",
    "                                    cmdCode='26',\n",
    "                                    # Trade flow code. Multi value input should be in the form of csv (Codes separated by comma (,))\n",
    "                                    flowCode='M',\n",
    "                                    # Partner code (Possible values are M49 code of the countries separated by comma (,))\n",
    "                                    partnerCode=None,\n",
    "                                    partner2Code=None,\n",
    "                                    # Customs code. Multi value input should be in the form of csv (Codes separated by comma (,))\n",
    "                                    customsCode=None, \n",
    "                                    motCode=None,\n",
    "                                    # Output format\n",
    "                                    format_output='JSON',\n",
    "                                    # Add parameters in csv list on which you want the results to be aggregated\n",
    "                                    aggregateBy=None,\n",
    "                                    # Mode to choose from\n",
    "                                    breakdownMode='classic',\n",
    "                                    countOnly=None,\n",
    "                                    # Include description\n",
    "                                    includeDesc=True)"
   ]
  },
  {
   "cell_type": "code",
   "execution_count": null,
   "id": "8cb5dce8",
   "metadata": {},
   "outputs": [],
   "source": [
    "# Look at head of data\n",
    "mydf.head(5)"
   ]
  },
  {
   "cell_type": "code",
   "execution_count": null,
   "id": "6a85cf34",
   "metadata": {},
   "outputs": [],
   "source": [
    "# Save results to CSV file\n",
    "mydf.to_csv('comtrade_api.csv')"
   ]
  },
  {
   "cell_type": "code",
   "execution_count": null,
   "id": "0fd5367c",
   "metadata": {},
   "outputs": [],
   "source": []
  }
 ],
 "metadata": {
  "kernelspec": {
   "display_name": "Python 3 (ipykernel)",
   "language": "python",
   "name": "python3"
  },
  "language_info": {
   "codemirror_mode": {
    "name": "ipython",
    "version": 3
   },
   "file_extension": ".py",
   "mimetype": "text/x-python",
   "name": "python",
   "nbconvert_exporter": "python",
   "pygments_lexer": "ipython3",
   "version": "3.10.9"
  }
 },
 "nbformat": 4,
 "nbformat_minor": 5
}
